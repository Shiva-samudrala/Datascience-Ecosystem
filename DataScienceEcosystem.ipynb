{
 "cells": [
  {
   "cell_type": "markdown",
   "id": "b3f0dffa-1a9b-4de1-89fe-3ee0521ba807",
   "metadata": {},
   "source": [
    "# Data Science Tools and Ecosystem"
   ]
  },
  {
   "cell_type": "markdown",
   "id": "fc797717-593b-4dba-817f-554ed31638b7",
   "metadata": {},
   "source": [
    "In this notebook, Data Science Tools and Ecosystem are summarized."
   ]
  },
  {
   "cell_type": "markdown",
   "id": "255ee42f-b824-4e45-8311-7a0e6fd2481e",
   "metadata": {},
   "source": [
    "##### Objectives:\n",
    "- List popular languages for Data Science\n",
    "- libraries used by Data Scientists\n",
    "- Some Data Science Tools\n",
    "- Arithmetic expressions exemples"
   ]
  },
  {
   "cell_type": "markdown",
   "id": "dc5b093d-435d-44c1-bef3-dfcf07dcbf15",
   "metadata": {},
   "source": [
    "Some of the popular languages that Data Scientists use are:\n",
    "1. python\n",
    "2. R\n",
    "3. SQL\n",
    "4. JAVA\n",
    "5. JavaScript"
   ]
  },
  {
   "cell_type": "markdown",
   "id": "1556cdf0-9f67-4c16-b52e-0d12530b073d",
   "metadata": {},
   "source": [
    "Some of the commonly used libraries used by Data Scientists include:\n",
    "1. Numpy\n",
    "2. Matplotlib\n",
    "3. scikit learn\n",
    "4. pandas"
   ]
  },
  {
   "cell_type": "markdown",
   "id": "7bb44e9d-b581-4e8b-9c34-fa242d726ec4",
   "metadata": {},
   "source": [
    "| Data Science Tools |\n",
    "| :---: |\n",
    "| Anaconda |\n",
    "| juypter notebook |\n",
    "| pycharm |"
   ]
  },
  {
   "cell_type": "markdown",
   "id": "41ecd61a-414b-4eae-b3b4-1bb01c71bbb8",
   "metadata": {},
   "source": [
    "### Below are a few examples of evaluating arithmetic expressions in Python."
   ]
  },
  {
   "cell_type": "code",
   "execution_count": 11,
   "id": "fd3f8437-9180-41d8-a864-ef6105006fb4",
   "metadata": {},
   "outputs": [
    {
     "data": {
      "text/plain": [
       "17"
      ]
     },
     "execution_count": 11,
     "metadata": {},
     "output_type": "execute_result"
    }
   ],
   "source": [
    "# This a simple arithmetic expression to mutiply then add integers\n",
    "(3*4)+5"
   ]
  },
  {
   "cell_type": "code",
   "execution_count": 13,
   "id": "d239bb56-d94b-4f51-8c60-767088b8f2d5",
   "metadata": {},
   "outputs": [
    {
     "data": {
      "text/plain": [
       "3.3333333333333335"
      ]
     },
     "execution_count": 13,
     "metadata": {},
     "output_type": "execute_result"
    }
   ],
   "source": [
    "# This will convert 200 minutes to hours by diving by 60\n",
    "200/60"
   ]
  },
  {
   "cell_type": "markdown",
   "id": "1783d656-1bc1-4237-978b-5c5a3ab6c17a",
   "metadata": {},
   "source": [
    "## Author\n",
    "Shiva kumar samudrala"
   ]
  },
  {
   "cell_type": "code",
   "execution_count": null,
   "id": "68525aa7-d3f8-4b2a-8a77-48f6bb8bebb9",
   "metadata": {},
   "outputs": [],
   "source": []
  }
 ],
 "metadata": {
  "kernelspec": {
   "display_name": "Python 3 (ipykernel)",
   "language": "python",
   "name": "python3"
  },
  "language_info": {
   "codemirror_mode": {
    "name": "ipython",
    "version": 3
   },
   "file_extension": ".py",
   "mimetype": "text/x-python",
   "name": "python",
   "nbconvert_exporter": "python",
   "pygments_lexer": "ipython3",
   "version": "3.12.7"
  }
 },
 "nbformat": 4,
 "nbformat_minor": 5
}
